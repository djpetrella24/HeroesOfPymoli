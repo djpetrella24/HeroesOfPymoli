{
 "cells": [
  {
   "cell_type": "code",
   "execution_count": 1,
   "metadata": {},
   "outputs": [
    {
     "data": {
      "text/html": [
       "<div>\n",
       "<style scoped>\n",
       "    .dataframe tbody tr th:only-of-type {\n",
       "        vertical-align: middle;\n",
       "    }\n",
       "\n",
       "    .dataframe tbody tr th {\n",
       "        vertical-align: top;\n",
       "    }\n",
       "\n",
       "    .dataframe thead th {\n",
       "        text-align: right;\n",
       "    }\n",
       "</style>\n",
       "<table border=\"1\" class=\"dataframe\">\n",
       "  <thead>\n",
       "    <tr style=\"text-align: right;\">\n",
       "      <th></th>\n",
       "      <th>Purchase ID</th>\n",
       "      <th>SN</th>\n",
       "      <th>Age</th>\n",
       "      <th>Gender</th>\n",
       "      <th>Item ID</th>\n",
       "      <th>Item Name</th>\n",
       "      <th>Price</th>\n",
       "    </tr>\n",
       "  </thead>\n",
       "  <tbody>\n",
       "    <tr>\n",
       "      <th>0</th>\n",
       "      <td>0</td>\n",
       "      <td>Lisim78</td>\n",
       "      <td>20</td>\n",
       "      <td>Male</td>\n",
       "      <td>108</td>\n",
       "      <td>Extraction, Quickblade Of Trembling Hands</td>\n",
       "      <td>3.53</td>\n",
       "    </tr>\n",
       "    <tr>\n",
       "      <th>1</th>\n",
       "      <td>1</td>\n",
       "      <td>Lisovynya38</td>\n",
       "      <td>40</td>\n",
       "      <td>Male</td>\n",
       "      <td>143</td>\n",
       "      <td>Frenzied Scimitar</td>\n",
       "      <td>1.56</td>\n",
       "    </tr>\n",
       "    <tr>\n",
       "      <th>2</th>\n",
       "      <td>2</td>\n",
       "      <td>Ithergue48</td>\n",
       "      <td>24</td>\n",
       "      <td>Male</td>\n",
       "      <td>92</td>\n",
       "      <td>Final Critic</td>\n",
       "      <td>4.88</td>\n",
       "    </tr>\n",
       "    <tr>\n",
       "      <th>3</th>\n",
       "      <td>3</td>\n",
       "      <td>Chamassasya86</td>\n",
       "      <td>24</td>\n",
       "      <td>Male</td>\n",
       "      <td>100</td>\n",
       "      <td>Blindscythe</td>\n",
       "      <td>3.27</td>\n",
       "    </tr>\n",
       "    <tr>\n",
       "      <th>4</th>\n",
       "      <td>4</td>\n",
       "      <td>Iskosia90</td>\n",
       "      <td>23</td>\n",
       "      <td>Male</td>\n",
       "      <td>131</td>\n",
       "      <td>Fury</td>\n",
       "      <td>1.44</td>\n",
       "    </tr>\n",
       "  </tbody>\n",
       "</table>\n",
       "</div>"
      ],
      "text/plain": [
       "   Purchase ID             SN  Age Gender  Item ID  \\\n",
       "0            0        Lisim78   20   Male      108   \n",
       "1            1    Lisovynya38   40   Male      143   \n",
       "2            2     Ithergue48   24   Male       92   \n",
       "3            3  Chamassasya86   24   Male      100   \n",
       "4            4      Iskosia90   23   Male      131   \n",
       "\n",
       "                                   Item Name  Price  \n",
       "0  Extraction, Quickblade Of Trembling Hands   3.53  \n",
       "1                          Frenzied Scimitar   1.56  \n",
       "2                               Final Critic   4.88  \n",
       "3                                Blindscythe   3.27  \n",
       "4                                       Fury   1.44  "
      ]
     },
     "execution_count": 1,
     "metadata": {},
     "output_type": "execute_result"
    }
   ],
   "source": [
    "# Dependencies and Setup\n",
    "import pandas as pd\n",
    "import numpy as np\n",
    "\n",
    "# File to Load\n",
    "file_to_load = \"Resources/purchase_data.csv\"\n",
    "\n",
    "# Read Purchasing File and store into Pandas data frame\n",
    "purchase_data_df = pd.read_csv(file_to_load)\n",
    "purchase_data_df.head()"
   ]
  },
  {
   "cell_type": "code",
   "execution_count": 2,
   "metadata": {},
   "outputs": [
    {
     "data": {
      "text/html": [
       "<div>\n",
       "<style scoped>\n",
       "    .dataframe tbody tr th:only-of-type {\n",
       "        vertical-align: middle;\n",
       "    }\n",
       "\n",
       "    .dataframe tbody tr th {\n",
       "        vertical-align: top;\n",
       "    }\n",
       "\n",
       "    .dataframe thead th {\n",
       "        text-align: right;\n",
       "    }\n",
       "</style>\n",
       "<table border=\"1\" class=\"dataframe\">\n",
       "  <thead>\n",
       "    <tr style=\"text-align: right;\">\n",
       "      <th></th>\n",
       "      <th>Total Players</th>\n",
       "    </tr>\n",
       "  </thead>\n",
       "  <tbody>\n",
       "    <tr>\n",
       "      <th>0</th>\n",
       "      <td>576</td>\n",
       "    </tr>\n",
       "  </tbody>\n",
       "</table>\n",
       "</div>"
      ],
      "text/plain": [
       "   Total Players\n",
       "0            576"
      ]
     },
     "execution_count": 2,
     "metadata": {},
     "output_type": "execute_result"
    }
   ],
   "source": [
    "# Find the total number of players. - needs to exclude duplicates. \n",
    "total_players = len(purchase_data_df[\"SN\"].unique())\n",
    "total_players_df = pd.DataFrame({\"Total Players\": [total_players]})\n",
    "total_players_df"
   ]
  },
  {
   "cell_type": "code",
   "execution_count": 3,
   "metadata": {},
   "outputs": [
    {
     "data": {
      "text/plain": [
       "780"
      ]
     },
     "execution_count": 3,
     "metadata": {},
     "output_type": "execute_result"
    }
   ],
   "source": [
    "purchases = purchase_data_df[\"SN\"].count()\n",
    "purchases"
   ]
  },
  {
   "cell_type": "code",
   "execution_count": 4,
   "metadata": {},
   "outputs": [
    {
     "data": {
      "text/plain": [
       "179"
      ]
     },
     "execution_count": 4,
     "metadata": {},
     "output_type": "execute_result"
    }
   ],
   "source": [
    "# Calculations to obtain number of unique items, average price, etc.\n",
    "item_names = purchase_data_df[\"Item Name\"].nunique()\n",
    "item_names"
   ]
  },
  {
   "cell_type": "code",
   "execution_count": 5,
   "metadata": {},
   "outputs": [
    {
     "data": {
      "text/html": [
       "<style  type=\"text/css\" >\n",
       "</style><table id=\"T_34e24454_c620_11ea_8cb4_784f4383536e\" ><thead>    <tr>        <th class=\"blank level0\" ></th>        <th class=\"col_heading level0 col0\" >Average Price</th>    </tr></thead><tbody>\n",
       "                <tr>\n",
       "                        <th id=\"T_34e24454_c620_11ea_8cb4_784f4383536elevel0_row0\" class=\"row_heading level0 row0\" >0</th>\n",
       "                        <td id=\"T_34e24454_c620_11ea_8cb4_784f4383536erow0_col0\" class=\"data row0 col0\" >$3.05</td>\n",
       "            </tr>\n",
       "    </tbody></table>"
      ],
      "text/plain": [
       "<pandas.io.formats.style.Styler at 0x7fba618563d0>"
      ]
     },
     "execution_count": 5,
     "metadata": {},
     "output_type": "execute_result"
    }
   ],
   "source": [
    "avg_price = purchase_data_df[\"Price\"].mean()\n",
    "avg_price_df = pd.DataFrame({\"Average Price\": [avg_price] })\n",
    "avg_price_df.style.format({\"Average Price\": \"${:,.2f}\"})"
   ]
  },
  {
   "cell_type": "code",
   "execution_count": 6,
   "metadata": {},
   "outputs": [
    {
     "data": {
      "text/html": [
       "<style  type=\"text/css\" >\n",
       "</style><table id=\"T_351220d4_c620_11ea_8cb4_784f4383536e\" ><thead>    <tr>        <th class=\"blank level0\" ></th>        <th class=\"col_heading level0 col0\" >Total Revenue</th>    </tr></thead><tbody>\n",
       "                <tr>\n",
       "                        <th id=\"T_351220d4_c620_11ea_8cb4_784f4383536elevel0_row0\" class=\"row_heading level0 row0\" >0</th>\n",
       "                        <td id=\"T_351220d4_c620_11ea_8cb4_784f4383536erow0_col0\" class=\"data row0 col0\" >$2,379.77</td>\n",
       "            </tr>\n",
       "    </tbody></table>"
      ],
      "text/plain": [
       "<pandas.io.formats.style.Styler at 0x7fba627d9110>"
      ]
     },
     "execution_count": 6,
     "metadata": {},
     "output_type": "execute_result"
    }
   ],
   "source": [
    "revenue = purchase_data_df[\"Price\"].sum()\n",
    "total_revenue_df = pd.DataFrame({\"Total Revenue\": [revenue]})\n",
    "total_revenue_df.style.format({\"Total Revenue\": \"${:,.2f}\"})"
   ]
  },
  {
   "cell_type": "code",
   "execution_count": 7,
   "metadata": {},
   "outputs": [
    {
     "data": {
      "text/html": [
       "<style  type=\"text/css\" >\n",
       "</style><table id=\"T_37abc30e_c620_11ea_8cb4_784f4383536e\" ><thead>    <tr>        <th class=\"blank level0\" ></th>        <th class=\"col_heading level0 col0\" >Number of Unique Items</th>        <th class=\"col_heading level0 col1\" >Average Price</th>        <th class=\"col_heading level0 col2\" >Number of Purchases</th>        <th class=\"col_heading level0 col3\" >Total Revenue</th>    </tr></thead><tbody>\n",
       "                <tr>\n",
       "                        <th id=\"T_37abc30e_c620_11ea_8cb4_784f4383536elevel0_row0\" class=\"row_heading level0 row0\" >0</th>\n",
       "                        <td id=\"T_37abc30e_c620_11ea_8cb4_784f4383536erow0_col0\" class=\"data row0 col0\" >179</td>\n",
       "                        <td id=\"T_37abc30e_c620_11ea_8cb4_784f4383536erow0_col1\" class=\"data row0 col1\" >$3.05</td>\n",
       "                        <td id=\"T_37abc30e_c620_11ea_8cb4_784f4383536erow0_col2\" class=\"data row0 col2\" >780</td>\n",
       "                        <td id=\"T_37abc30e_c620_11ea_8cb4_784f4383536erow0_col3\" class=\"data row0 col3\" >$2,379.77</td>\n",
       "            </tr>\n",
       "    </tbody></table>"
      ],
      "text/plain": [
       "<pandas.io.formats.style.Styler at 0x7fba6222b6d0>"
      ]
     },
     "execution_count": 7,
     "metadata": {},
     "output_type": "execute_result"
    }
   ],
   "source": [
    "gamers_df = pd.DataFrame({\"Number of Unique Items\": [item_names],\n",
    "                         \"Average Price\": [avg_price], \n",
    "                         \"Number of Purchases\": [purchases], \n",
    "                         \"Total Revenue\": [revenue]\n",
    "                           })\n",
    "gamers_df.style.format({\"Average Price\": \"${:,.2f}\",\n",
    "                       \"Total Revenue\": \"${:,.2f}\"\n",
    "                       })"
   ]
  },
  {
   "cell_type": "code",
   "execution_count": null,
   "metadata": {},
   "outputs": [],
   "source": []
  },
  {
   "cell_type": "code",
   "execution_count": 8,
   "metadata": {},
   "outputs": [
    {
     "data": {
      "text/html": [
       "<div>\n",
       "<style scoped>\n",
       "    .dataframe tbody tr th:only-of-type {\n",
       "        vertical-align: middle;\n",
       "    }\n",
       "\n",
       "    .dataframe tbody tr th {\n",
       "        vertical-align: top;\n",
       "    }\n",
       "\n",
       "    .dataframe thead th {\n",
       "        text-align: right;\n",
       "    }\n",
       "</style>\n",
       "<table border=\"1\" class=\"dataframe\">\n",
       "  <thead>\n",
       "    <tr style=\"text-align: right;\">\n",
       "      <th></th>\n",
       "      <th>SN</th>\n",
       "      <th>Age</th>\n",
       "      <th>Gender</th>\n",
       "    </tr>\n",
       "  </thead>\n",
       "  <tbody>\n",
       "    <tr>\n",
       "      <th>0</th>\n",
       "      <td>Lisim78</td>\n",
       "      <td>20</td>\n",
       "      <td>Male</td>\n",
       "    </tr>\n",
       "    <tr>\n",
       "      <th>1</th>\n",
       "      <td>Lisovynya38</td>\n",
       "      <td>40</td>\n",
       "      <td>Male</td>\n",
       "    </tr>\n",
       "    <tr>\n",
       "      <th>2</th>\n",
       "      <td>Ithergue48</td>\n",
       "      <td>24</td>\n",
       "      <td>Male</td>\n",
       "    </tr>\n",
       "    <tr>\n",
       "      <th>3</th>\n",
       "      <td>Chamassasya86</td>\n",
       "      <td>24</td>\n",
       "      <td>Male</td>\n",
       "    </tr>\n",
       "    <tr>\n",
       "      <th>4</th>\n",
       "      <td>Iskosia90</td>\n",
       "      <td>23</td>\n",
       "      <td>Male</td>\n",
       "    </tr>\n",
       "    <tr>\n",
       "      <th>...</th>\n",
       "      <td>...</td>\n",
       "      <td>...</td>\n",
       "      <td>...</td>\n",
       "    </tr>\n",
       "    <tr>\n",
       "      <th>773</th>\n",
       "      <td>Hala31</td>\n",
       "      <td>21</td>\n",
       "      <td>Male</td>\n",
       "    </tr>\n",
       "    <tr>\n",
       "      <th>774</th>\n",
       "      <td>Jiskjask80</td>\n",
       "      <td>11</td>\n",
       "      <td>Male</td>\n",
       "    </tr>\n",
       "    <tr>\n",
       "      <th>775</th>\n",
       "      <td>Aethedru70</td>\n",
       "      <td>21</td>\n",
       "      <td>Female</td>\n",
       "    </tr>\n",
       "    <tr>\n",
       "      <th>777</th>\n",
       "      <td>Yathecal72</td>\n",
       "      <td>20</td>\n",
       "      <td>Male</td>\n",
       "    </tr>\n",
       "    <tr>\n",
       "      <th>778</th>\n",
       "      <td>Sisur91</td>\n",
       "      <td>7</td>\n",
       "      <td>Male</td>\n",
       "    </tr>\n",
       "  </tbody>\n",
       "</table>\n",
       "<p>576 rows × 3 columns</p>\n",
       "</div>"
      ],
      "text/plain": [
       "                SN  Age  Gender\n",
       "0          Lisim78   20    Male\n",
       "1      Lisovynya38   40    Male\n",
       "2       Ithergue48   24    Male\n",
       "3    Chamassasya86   24    Male\n",
       "4        Iskosia90   23    Male\n",
       "..             ...  ...     ...\n",
       "773         Hala31   21    Male\n",
       "774     Jiskjask80   11    Male\n",
       "775     Aethedru70   21  Female\n",
       "777     Yathecal72   20    Male\n",
       "778        Sisur91    7    Male\n",
       "\n",
       "[576 rows x 3 columns]"
      ]
     },
     "execution_count": 8,
     "metadata": {},
     "output_type": "execute_result"
    }
   ],
   "source": [
    "player_info = purchase_data_df.loc[:, [\"SN\", \"Age\", \"Gender\"]].drop_duplicates()\n",
    "player_info"
   ]
  },
  {
   "cell_type": "code",
   "execution_count": 9,
   "metadata": {},
   "outputs": [
    {
     "data": {
      "text/html": [
       "<style  type=\"text/css\" >\n",
       "</style><table id=\"T_3bd20754_c620_11ea_8cb4_784f4383536e\" ><thead>    <tr>        <th class=\"blank level0\" ></th>        <th class=\"col_heading level0 col0\" >Total Count</th>        <th class=\"col_heading level0 col1\" >Percentage</th>    </tr></thead><tbody>\n",
       "                <tr>\n",
       "                        <th id=\"T_3bd20754_c620_11ea_8cb4_784f4383536elevel0_row0\" class=\"row_heading level0 row0\" >Male</th>\n",
       "                        <td id=\"T_3bd20754_c620_11ea_8cb4_784f4383536erow0_col0\" class=\"data row0 col0\" >484</td>\n",
       "                        <td id=\"T_3bd20754_c620_11ea_8cb4_784f4383536erow0_col1\" class=\"data row0 col1\" >84.03%</td>\n",
       "            </tr>\n",
       "            <tr>\n",
       "                        <th id=\"T_3bd20754_c620_11ea_8cb4_784f4383536elevel0_row1\" class=\"row_heading level0 row1\" >Female</th>\n",
       "                        <td id=\"T_3bd20754_c620_11ea_8cb4_784f4383536erow1_col0\" class=\"data row1 col0\" >81</td>\n",
       "                        <td id=\"T_3bd20754_c620_11ea_8cb4_784f4383536erow1_col1\" class=\"data row1 col1\" >14.06%</td>\n",
       "            </tr>\n",
       "            <tr>\n",
       "                        <th id=\"T_3bd20754_c620_11ea_8cb4_784f4383536elevel0_row2\" class=\"row_heading level0 row2\" >Other / Non-Disclosed</th>\n",
       "                        <td id=\"T_3bd20754_c620_11ea_8cb4_784f4383536erow2_col0\" class=\"data row2 col0\" >11</td>\n",
       "                        <td id=\"T_3bd20754_c620_11ea_8cb4_784f4383536erow2_col1\" class=\"data row2 col1\" >1.91%</td>\n",
       "            </tr>\n",
       "    </tbody></table>"
      ],
      "text/plain": [
       "<pandas.io.formats.style.Styler at 0x7fba6067abd0>"
      ]
     },
     "execution_count": 9,
     "metadata": {},
     "output_type": "execute_result"
    }
   ],
   "source": [
    "count = player_info[\"Gender\"].value_counts()\n",
    "percent_count = (count / total_players)\n",
    "count_df = pd.DataFrame({\"Total Count\": count, \"Percentage\": percent_count})\n",
    "\n",
    "count_df.style.format({\"Percentage\":\"{:.2%}\"})"
   ]
  },
  {
   "cell_type": "code",
   "execution_count": 10,
   "metadata": {},
   "outputs": [
    {
     "data": {
      "text/html": [
       "<style  type=\"text/css\" >\n",
       "</style><table id=\"T_3c6794ea_c620_11ea_8cb4_784f4383536e\" ><thead>    <tr>        <th class=\"blank level0\" ></th>        <th class=\"col_heading level0 col0\" >Purchase Count</th>        <th class=\"col_heading level0 col1\" >Average Purchase Price</th>        <th class=\"col_heading level0 col2\" >Total Purchase Value</th>        <th class=\"col_heading level0 col3\" >Avg Total Purchase per Person</th>    </tr>    <tr>        <th class=\"index_name level0\" >Gender</th>        <th class=\"blank\" ></th>        <th class=\"blank\" ></th>        <th class=\"blank\" ></th>        <th class=\"blank\" ></th>    </tr></thead><tbody>\n",
       "                <tr>\n",
       "                        <th id=\"T_3c6794ea_c620_11ea_8cb4_784f4383536elevel0_row0\" class=\"row_heading level0 row0\" >Female</th>\n",
       "                        <td id=\"T_3c6794ea_c620_11ea_8cb4_784f4383536erow0_col0\" class=\"data row0 col0\" >113</td>\n",
       "                        <td id=\"T_3c6794ea_c620_11ea_8cb4_784f4383536erow0_col1\" class=\"data row0 col1\" >$3.20</td>\n",
       "                        <td id=\"T_3c6794ea_c620_11ea_8cb4_784f4383536erow0_col2\" class=\"data row0 col2\" >$361.94</td>\n",
       "                        <td id=\"T_3c6794ea_c620_11ea_8cb4_784f4383536erow0_col3\" class=\"data row0 col3\" >$4.47</td>\n",
       "            </tr>\n",
       "            <tr>\n",
       "                        <th id=\"T_3c6794ea_c620_11ea_8cb4_784f4383536elevel0_row1\" class=\"row_heading level0 row1\" >Male</th>\n",
       "                        <td id=\"T_3c6794ea_c620_11ea_8cb4_784f4383536erow1_col0\" class=\"data row1 col0\" >652</td>\n",
       "                        <td id=\"T_3c6794ea_c620_11ea_8cb4_784f4383536erow1_col1\" class=\"data row1 col1\" >$3.02</td>\n",
       "                        <td id=\"T_3c6794ea_c620_11ea_8cb4_784f4383536erow1_col2\" class=\"data row1 col2\" >$1,967.64</td>\n",
       "                        <td id=\"T_3c6794ea_c620_11ea_8cb4_784f4383536erow1_col3\" class=\"data row1 col3\" >$4.07</td>\n",
       "            </tr>\n",
       "            <tr>\n",
       "                        <th id=\"T_3c6794ea_c620_11ea_8cb4_784f4383536elevel0_row2\" class=\"row_heading level0 row2\" >Other / Non-Disclosed</th>\n",
       "                        <td id=\"T_3c6794ea_c620_11ea_8cb4_784f4383536erow2_col0\" class=\"data row2 col0\" >15</td>\n",
       "                        <td id=\"T_3c6794ea_c620_11ea_8cb4_784f4383536erow2_col1\" class=\"data row2 col1\" >$3.35</td>\n",
       "                        <td id=\"T_3c6794ea_c620_11ea_8cb4_784f4383536erow2_col2\" class=\"data row2 col2\" >$50.19</td>\n",
       "                        <td id=\"T_3c6794ea_c620_11ea_8cb4_784f4383536erow2_col3\" class=\"data row2 col3\" >$4.56</td>\n",
       "            </tr>\n",
       "    </tbody></table>"
      ],
      "text/plain": [
       "<pandas.io.formats.style.Styler at 0x7fba629c2c90>"
      ]
     },
     "execution_count": 10,
     "metadata": {},
     "output_type": "execute_result"
    }
   ],
   "source": [
    "# Purchasing Analysis by Gender \n",
    "gender_analysis = purchase_data_df.groupby(\"Gender\").count()[\"Purchase ID\"]\n",
    "gender_mean = purchase_data_df.groupby(\"Gender\").mean()[\"Price\"]\n",
    "gender_price = purchase_data_df.groupby(\"Gender\").sum()[\"Price\"]\n",
    "gender_x = round(gender_price / count, 2)\n",
    "\n",
    "gender_summary_df = pd.DataFrame({\"Purchase Count\": gender_analysis,\n",
    "                              \"Average Purchase Price\": gender_mean,\n",
    "                              \"Total Purchase Value\": gender_price,\n",
    "                              \"Avg Total Purchase per Person\": gender_x\n",
    "                                 })\n",
    "\n",
    "gender_summary_df.style.format({\"Average Purchase Price\": \"${:,.2f}\",\n",
    "                              \"Total Purchase Value\": \"${:,.2f}\",\n",
    "                              \"Avg Total Purchase per Person\": \"${:,.2f}\"\n",
    "                               })\n"
   ]
  },
  {
   "cell_type": "code",
   "execution_count": 11,
   "metadata": {},
   "outputs": [],
   "source": [
    "# Age Demographics\n",
    "\n",
    "# Create the bins\n",
    "bins = [0, 9.9, 14.9, 19.9, 24.9, 29.9, 34.9, 39.9, 100]\n",
    "\n",
    "# Name the bins \n",
    "group_names = [\"<10\", \"10-14\", \"15-19\", \"20-24\", \"25-29\", \"30-34\", \"35-39\", \"40+\"]\n"
   ]
  },
  {
   "cell_type": "code",
   "execution_count": 17,
   "metadata": {},
   "outputs": [
    {
     "data": {
      "text/html": [
       "<style  type=\"text/css\" >\n",
       "</style><table id=\"T_3d0b4328_c621_11ea_8cb4_784f4383536e\" ><thead>    <tr>        <th class=\"blank level0\" ></th>        <th class=\"col_heading level0 col0\" >Total Count</th>        <th class=\"col_heading level0 col1\" >Percentage of Players</th>    </tr>    <tr>        <th class=\"index_name level0\" >Age Range</th>        <th class=\"blank\" ></th>        <th class=\"blank\" ></th>    </tr></thead><tbody>\n",
       "                <tr>\n",
       "                        <th id=\"T_3d0b4328_c621_11ea_8cb4_784f4383536elevel0_row0\" class=\"row_heading level0 row0\" ><10</th>\n",
       "                        <td id=\"T_3d0b4328_c621_11ea_8cb4_784f4383536erow0_col0\" class=\"data row0 col0\" >17</td>\n",
       "                        <td id=\"T_3d0b4328_c621_11ea_8cb4_784f4383536erow0_col1\" class=\"data row0 col1\" >2.95%</td>\n",
       "            </tr>\n",
       "            <tr>\n",
       "                        <th id=\"T_3d0b4328_c621_11ea_8cb4_784f4383536elevel0_row1\" class=\"row_heading level0 row1\" >10-14</th>\n",
       "                        <td id=\"T_3d0b4328_c621_11ea_8cb4_784f4383536erow1_col0\" class=\"data row1 col0\" >22</td>\n",
       "                        <td id=\"T_3d0b4328_c621_11ea_8cb4_784f4383536erow1_col1\" class=\"data row1 col1\" >3.82%</td>\n",
       "            </tr>\n",
       "            <tr>\n",
       "                        <th id=\"T_3d0b4328_c621_11ea_8cb4_784f4383536elevel0_row2\" class=\"row_heading level0 row2\" >15-19</th>\n",
       "                        <td id=\"T_3d0b4328_c621_11ea_8cb4_784f4383536erow2_col0\" class=\"data row2 col0\" >107</td>\n",
       "                        <td id=\"T_3d0b4328_c621_11ea_8cb4_784f4383536erow2_col1\" class=\"data row2 col1\" >18.58%</td>\n",
       "            </tr>\n",
       "            <tr>\n",
       "                        <th id=\"T_3d0b4328_c621_11ea_8cb4_784f4383536elevel0_row3\" class=\"row_heading level0 row3\" >20-24</th>\n",
       "                        <td id=\"T_3d0b4328_c621_11ea_8cb4_784f4383536erow3_col0\" class=\"data row3 col0\" >258</td>\n",
       "                        <td id=\"T_3d0b4328_c621_11ea_8cb4_784f4383536erow3_col1\" class=\"data row3 col1\" >44.79%</td>\n",
       "            </tr>\n",
       "            <tr>\n",
       "                        <th id=\"T_3d0b4328_c621_11ea_8cb4_784f4383536elevel0_row4\" class=\"row_heading level0 row4\" >25-29</th>\n",
       "                        <td id=\"T_3d0b4328_c621_11ea_8cb4_784f4383536erow4_col0\" class=\"data row4 col0\" >77</td>\n",
       "                        <td id=\"T_3d0b4328_c621_11ea_8cb4_784f4383536erow4_col1\" class=\"data row4 col1\" >13.37%</td>\n",
       "            </tr>\n",
       "            <tr>\n",
       "                        <th id=\"T_3d0b4328_c621_11ea_8cb4_784f4383536elevel0_row5\" class=\"row_heading level0 row5\" >30-34</th>\n",
       "                        <td id=\"T_3d0b4328_c621_11ea_8cb4_784f4383536erow5_col0\" class=\"data row5 col0\" >52</td>\n",
       "                        <td id=\"T_3d0b4328_c621_11ea_8cb4_784f4383536erow5_col1\" class=\"data row5 col1\" >9.03%</td>\n",
       "            </tr>\n",
       "            <tr>\n",
       "                        <th id=\"T_3d0b4328_c621_11ea_8cb4_784f4383536elevel0_row6\" class=\"row_heading level0 row6\" >35-39</th>\n",
       "                        <td id=\"T_3d0b4328_c621_11ea_8cb4_784f4383536erow6_col0\" class=\"data row6 col0\" >31</td>\n",
       "                        <td id=\"T_3d0b4328_c621_11ea_8cb4_784f4383536erow6_col1\" class=\"data row6 col1\" >5.38%</td>\n",
       "            </tr>\n",
       "            <tr>\n",
       "                        <th id=\"T_3d0b4328_c621_11ea_8cb4_784f4383536elevel0_row7\" class=\"row_heading level0 row7\" >40+</th>\n",
       "                        <td id=\"T_3d0b4328_c621_11ea_8cb4_784f4383536erow7_col0\" class=\"data row7 col0\" >12</td>\n",
       "                        <td id=\"T_3d0b4328_c621_11ea_8cb4_784f4383536erow7_col1\" class=\"data row7 col1\" >2.08%</td>\n",
       "            </tr>\n",
       "    </tbody></table>"
      ],
      "text/plain": [
       "<pandas.io.formats.style.Styler at 0x7fba62a0e850>"
      ]
     },
     "execution_count": 17,
     "metadata": {},
     "output_type": "execute_result"
    }
   ],
   "source": [
    "\n",
    "player_info[\"Age Range\"] = pd.cut(purchase_data_df[\"Age\"], bins, labels = group_names)\n",
    "\n",
    "player_x = player_info[\"Age Range\"].value_counts()\n",
    "\n",
    "player_percent = (player_x / total_players)\n",
    "\n",
    "summary_df2 = pd.DataFrame({\"Total Count\": player_x,\n",
    "                              \"Percentage of Players\": player_percent\n",
    "                              })\n",
    "\n",
    "summary_df2 = summary_df2.sort_index()\n",
    "\n",
    "summary_df2.index.name = \"Age Range\"\n",
    "\n",
    "summary_df2.style.format({\"Percentage of Players\":\"{:.2%}\"})"
   ]
  },
  {
   "cell_type": "code",
   "execution_count": 19,
   "metadata": {},
   "outputs": [
    {
     "data": {
      "text/html": [
       "<style  type=\"text/css\" >\n",
       "</style><table id=\"T_563805f2_c621_11ea_8cb4_784f4383536e\" ><thead>    <tr>        <th class=\"blank level0\" ></th>        <th class=\"col_heading level0 col0\" >Purchase Count</th>        <th class=\"col_heading level0 col1\" >Avg. Purchase Price</th>        <th class=\"col_heading level0 col2\" >Total Purchase Price</th>        <th class=\"col_heading level0 col3\" >Avg. Purchase Total per Person</th>    </tr>    <tr>        <th class=\"index_name level0\" >Age Range</th>        <th class=\"blank\" ></th>        <th class=\"blank\" ></th>        <th class=\"blank\" ></th>        <th class=\"blank\" ></th>    </tr></thead><tbody>\n",
       "                <tr>\n",
       "                        <th id=\"T_563805f2_c621_11ea_8cb4_784f4383536elevel0_row0\" class=\"row_heading level0 row0\" ><10</th>\n",
       "                        <td id=\"T_563805f2_c621_11ea_8cb4_784f4383536erow0_col0\" class=\"data row0 col0\" >23</td>\n",
       "                        <td id=\"T_563805f2_c621_11ea_8cb4_784f4383536erow0_col1\" class=\"data row0 col1\" >$0.03</td>\n",
       "                        <td id=\"T_563805f2_c621_11ea_8cb4_784f4383536erow0_col2\" class=\"data row0 col2\" >$77.13</td>\n",
       "                        <td id=\"T_563805f2_c621_11ea_8cb4_784f4383536erow0_col3\" class=\"data row0 col3\" >$4.54</td>\n",
       "            </tr>\n",
       "            <tr>\n",
       "                        <th id=\"T_563805f2_c621_11ea_8cb4_784f4383536elevel0_row1\" class=\"row_heading level0 row1\" >10-14</th>\n",
       "                        <td id=\"T_563805f2_c621_11ea_8cb4_784f4383536erow1_col0\" class=\"data row1 col0\" >28</td>\n",
       "                        <td id=\"T_563805f2_c621_11ea_8cb4_784f4383536erow1_col1\" class=\"data row1 col1\" >$0.04</td>\n",
       "                        <td id=\"T_563805f2_c621_11ea_8cb4_784f4383536erow1_col2\" class=\"data row1 col2\" >$82.78</td>\n",
       "                        <td id=\"T_563805f2_c621_11ea_8cb4_784f4383536erow1_col3\" class=\"data row1 col3\" >$3.76</td>\n",
       "            </tr>\n",
       "            <tr>\n",
       "                        <th id=\"T_563805f2_c621_11ea_8cb4_784f4383536elevel0_row2\" class=\"row_heading level0 row2\" >15-19</th>\n",
       "                        <td id=\"T_563805f2_c621_11ea_8cb4_784f4383536erow2_col0\" class=\"data row2 col0\" >136</td>\n",
       "                        <td id=\"T_563805f2_c621_11ea_8cb4_784f4383536erow2_col1\" class=\"data row2 col1\" >$0.19</td>\n",
       "                        <td id=\"T_563805f2_c621_11ea_8cb4_784f4383536erow2_col2\" class=\"data row2 col2\" >$412.89</td>\n",
       "                        <td id=\"T_563805f2_c621_11ea_8cb4_784f4383536erow2_col3\" class=\"data row2 col3\" >$3.86</td>\n",
       "            </tr>\n",
       "            <tr>\n",
       "                        <th id=\"T_563805f2_c621_11ea_8cb4_784f4383536elevel0_row3\" class=\"row_heading level0 row3\" >20-24</th>\n",
       "                        <td id=\"T_563805f2_c621_11ea_8cb4_784f4383536erow3_col0\" class=\"data row3 col0\" >365</td>\n",
       "                        <td id=\"T_563805f2_c621_11ea_8cb4_784f4383536erow3_col1\" class=\"data row3 col1\" >$0.45</td>\n",
       "                        <td id=\"T_563805f2_c621_11ea_8cb4_784f4383536erow3_col2\" class=\"data row3 col2\" >$1,114.06</td>\n",
       "                        <td id=\"T_563805f2_c621_11ea_8cb4_784f4383536erow3_col3\" class=\"data row3 col3\" >$4.32</td>\n",
       "            </tr>\n",
       "            <tr>\n",
       "                        <th id=\"T_563805f2_c621_11ea_8cb4_784f4383536elevel0_row4\" class=\"row_heading level0 row4\" >25-29</th>\n",
       "                        <td id=\"T_563805f2_c621_11ea_8cb4_784f4383536erow4_col0\" class=\"data row4 col0\" >101</td>\n",
       "                        <td id=\"T_563805f2_c621_11ea_8cb4_784f4383536erow4_col1\" class=\"data row4 col1\" >$0.13</td>\n",
       "                        <td id=\"T_563805f2_c621_11ea_8cb4_784f4383536erow4_col2\" class=\"data row4 col2\" >$293.00</td>\n",
       "                        <td id=\"T_563805f2_c621_11ea_8cb4_784f4383536erow4_col3\" class=\"data row4 col3\" >$3.81</td>\n",
       "            </tr>\n",
       "            <tr>\n",
       "                        <th id=\"T_563805f2_c621_11ea_8cb4_784f4383536elevel0_row5\" class=\"row_heading level0 row5\" >30-34</th>\n",
       "                        <td id=\"T_563805f2_c621_11ea_8cb4_784f4383536erow5_col0\" class=\"data row5 col0\" >73</td>\n",
       "                        <td id=\"T_563805f2_c621_11ea_8cb4_784f4383536erow5_col1\" class=\"data row5 col1\" >$0.09</td>\n",
       "                        <td id=\"T_563805f2_c621_11ea_8cb4_784f4383536erow5_col2\" class=\"data row5 col2\" >$214.00</td>\n",
       "                        <td id=\"T_563805f2_c621_11ea_8cb4_784f4383536erow5_col3\" class=\"data row5 col3\" >$4.12</td>\n",
       "            </tr>\n",
       "            <tr>\n",
       "                        <th id=\"T_563805f2_c621_11ea_8cb4_784f4383536elevel0_row6\" class=\"row_heading level0 row6\" >35-39</th>\n",
       "                        <td id=\"T_563805f2_c621_11ea_8cb4_784f4383536erow6_col0\" class=\"data row6 col0\" >41</td>\n",
       "                        <td id=\"T_563805f2_c621_11ea_8cb4_784f4383536erow6_col1\" class=\"data row6 col1\" >$0.05</td>\n",
       "                        <td id=\"T_563805f2_c621_11ea_8cb4_784f4383536erow6_col2\" class=\"data row6 col2\" >$147.67</td>\n",
       "                        <td id=\"T_563805f2_c621_11ea_8cb4_784f4383536erow6_col3\" class=\"data row6 col3\" >$4.76</td>\n",
       "            </tr>\n",
       "            <tr>\n",
       "                        <th id=\"T_563805f2_c621_11ea_8cb4_784f4383536elevel0_row7\" class=\"row_heading level0 row7\" >40+</th>\n",
       "                        <td id=\"T_563805f2_c621_11ea_8cb4_784f4383536erow7_col0\" class=\"data row7 col0\" >13</td>\n",
       "                        <td id=\"T_563805f2_c621_11ea_8cb4_784f4383536erow7_col1\" class=\"data row7 col1\" >$0.02</td>\n",
       "                        <td id=\"T_563805f2_c621_11ea_8cb4_784f4383536erow7_col2\" class=\"data row7 col2\" >$38.24</td>\n",
       "                        <td id=\"T_563805f2_c621_11ea_8cb4_784f4383536erow7_col3\" class=\"data row7 col3\" >$3.19</td>\n",
       "            </tr>\n",
       "    </tbody></table>"
      ],
      "text/plain": [
       "<pandas.io.formats.style.Styler at 0x7fba629f9490>"
      ]
     },
     "execution_count": 19,
     "metadata": {},
     "output_type": "execute_result"
    }
   ],
   "source": [
    "# Purchase Analysis by Age\n",
    "purchase_data_df[\"Age Range\"] = pd.cut(purchase_data_df[\"Age\"], bins, labels = group_names)\n",
    "\n",
    "# Purchase Count \n",
    "purchase_count = purchase_data_df[\"Age Range\"].value_counts()\n",
    "\n",
    "# Avg. Purchase Price \n",
    "avg_purchase_price = round(purchase_data_df.groupby(\"Age Range\").mean()[\"Price\"], 2)\n",
    "\n",
    "# Total Purchase Price\n",
    "total_purchase_price = purchase_data_df.groupby(\"Age Range\").sum()[\"Price\"]\n",
    "\n",
    "# Avg. Purchase Total per Person\n",
    "avg_purchase_total = round(total_purchase_price / player_x, 2)\n",
    "\n",
    "# Display the Summary Table\n",
    "summary_df3 = pd.DataFrame({\"Purchase Count\": purchase_count,\n",
    "                            \"Avg. Purchase Price\": player_percent,\n",
    "                            \"Total Purchase Price\": total_purchase_price,\n",
    "                            \"Avg. Purchase Total per Person\": avg_purchase_total\n",
    "                              })\n",
    "summary_df3 = summary_df3.sort_index()\n",
    "\n",
    "summary_df3.index.name = \"Age Range\"\n",
    "\n",
    "summary_df3.style.format({\"Avg. Purchase Price\": \"${:,.2f}\",\n",
    "                            \"Total Purchase Price\": \"${:,.2f}\",\n",
    "                            \"Avg. Purchase Total per Person\": \"${:,.2f}\"\n",
    "                         })"
   ]
  },
  {
   "cell_type": "code",
   "execution_count": 20,
   "metadata": {},
   "outputs": [
    {
     "data": {
      "text/html": [
       "<style  type=\"text/css\" >\n",
       "</style><table id=\"T_6800d570_c621_11ea_8cb4_784f4383536e\" ><thead>    <tr>        <th class=\"blank level0\" ></th>        <th class=\"col_heading level0 col0\" >Purchase Count</th>        <th class=\"col_heading level0 col1\" >Average Purchase Price</th>        <th class=\"col_heading level0 col2\" >Total Purchase Value</th>    </tr>    <tr>        <th class=\"index_name level0\" >SN</th>        <th class=\"blank\" ></th>        <th class=\"blank\" ></th>        <th class=\"blank\" ></th>    </tr></thead><tbody>\n",
       "                <tr>\n",
       "                        <th id=\"T_6800d570_c621_11ea_8cb4_784f4383536elevel0_row0\" class=\"row_heading level0 row0\" >Lisosia93</th>\n",
       "                        <td id=\"T_6800d570_c621_11ea_8cb4_784f4383536erow0_col0\" class=\"data row0 col0\" >5</td>\n",
       "                        <td id=\"T_6800d570_c621_11ea_8cb4_784f4383536erow0_col1\" class=\"data row0 col1\" >$3.79</td>\n",
       "                        <td id=\"T_6800d570_c621_11ea_8cb4_784f4383536erow0_col2\" class=\"data row0 col2\" >$18.96</td>\n",
       "            </tr>\n",
       "            <tr>\n",
       "                        <th id=\"T_6800d570_c621_11ea_8cb4_784f4383536elevel0_row1\" class=\"row_heading level0 row1\" >Idastidru52</th>\n",
       "                        <td id=\"T_6800d570_c621_11ea_8cb4_784f4383536erow1_col0\" class=\"data row1 col0\" >4</td>\n",
       "                        <td id=\"T_6800d570_c621_11ea_8cb4_784f4383536erow1_col1\" class=\"data row1 col1\" >$3.86</td>\n",
       "                        <td id=\"T_6800d570_c621_11ea_8cb4_784f4383536erow1_col2\" class=\"data row1 col2\" >$15.45</td>\n",
       "            </tr>\n",
       "            <tr>\n",
       "                        <th id=\"T_6800d570_c621_11ea_8cb4_784f4383536elevel0_row2\" class=\"row_heading level0 row2\" >Chamjask73</th>\n",
       "                        <td id=\"T_6800d570_c621_11ea_8cb4_784f4383536erow2_col0\" class=\"data row2 col0\" >3</td>\n",
       "                        <td id=\"T_6800d570_c621_11ea_8cb4_784f4383536erow2_col1\" class=\"data row2 col1\" >$4.61</td>\n",
       "                        <td id=\"T_6800d570_c621_11ea_8cb4_784f4383536erow2_col2\" class=\"data row2 col2\" >$13.83</td>\n",
       "            </tr>\n",
       "            <tr>\n",
       "                        <th id=\"T_6800d570_c621_11ea_8cb4_784f4383536elevel0_row3\" class=\"row_heading level0 row3\" >Iral74</th>\n",
       "                        <td id=\"T_6800d570_c621_11ea_8cb4_784f4383536erow3_col0\" class=\"data row3 col0\" >4</td>\n",
       "                        <td id=\"T_6800d570_c621_11ea_8cb4_784f4383536erow3_col1\" class=\"data row3 col1\" >$3.40</td>\n",
       "                        <td id=\"T_6800d570_c621_11ea_8cb4_784f4383536erow3_col2\" class=\"data row3 col2\" >$13.62</td>\n",
       "            </tr>\n",
       "            <tr>\n",
       "                        <th id=\"T_6800d570_c621_11ea_8cb4_784f4383536elevel0_row4\" class=\"row_heading level0 row4\" >Iskadarya95</th>\n",
       "                        <td id=\"T_6800d570_c621_11ea_8cb4_784f4383536erow4_col0\" class=\"data row4 col0\" >3</td>\n",
       "                        <td id=\"T_6800d570_c621_11ea_8cb4_784f4383536erow4_col1\" class=\"data row4 col1\" >$4.37</td>\n",
       "                        <td id=\"T_6800d570_c621_11ea_8cb4_784f4383536erow4_col2\" class=\"data row4 col2\" >$13.10</td>\n",
       "            </tr>\n",
       "    </tbody></table>"
      ],
      "text/plain": [
       "<pandas.io.formats.style.Styler at 0x7fba62a26a10>"
      ]
     },
     "execution_count": 20,
     "metadata": {},
     "output_type": "execute_result"
    }
   ],
   "source": [
    "# Group purchase data by screen names\n",
    "screen_names = purchase_data_df.groupby(\"SN\")\n",
    "\n",
    "# Count the total purchases by name\n",
    "name_spend = screen_names[\"Purchase ID\"].count()\n",
    "\n",
    "# Calculate the average purchase by name \n",
    "avg_purchase_sn = screen_names[\"Price\"].mean()\n",
    "\n",
    "# Calculate purchase total \n",
    "total_purchase = screen_names[\"Price\"].sum()\n",
    "\n",
    "# Display the Summary Table\n",
    "summary_df4 = pd.DataFrame({\"Purchase Count\": name_spend,\n",
    "                             \"Average Purchase Price\": avg_purchase_sn,\n",
    "                             \"Total Purchase Value\": total_purchase\n",
    "                      })\n",
    "\n",
    "# Sort to get top five\n",
    "summary_df4 = summary_df4.sort_values([\"Total Purchase Value\"], ascending=False).head()\n",
    "\n",
    "# Format to currency\n",
    "summary_df4.style.format({\"Average Purchase Total\":\"${:,.2f}\",\n",
    "                                 \"Average Purchase Price\":\"${:,.2f}\", \n",
    "                                 \"Total Purchase Value\":\"${:,.2f}\"})"
   ]
  },
  {
   "cell_type": "code",
   "execution_count": 21,
   "metadata": {},
   "outputs": [
    {
     "data": {
      "text/html": [
       "<style  type=\"text/css\" >\n",
       "</style><table id=\"T_6906c90c_c621_11ea_8cb4_784f4383536e\" ><thead>    <tr>        <th class=\"blank\" ></th>        <th class=\"blank level0\" ></th>        <th class=\"col_heading level0 col0\" >Purchase Count</th>        <th class=\"col_heading level0 col1\" >Item Price</th>        <th class=\"col_heading level0 col2\" >Total Purchase Value</th>    </tr>    <tr>        <th class=\"index_name level0\" >Item ID</th>        <th class=\"index_name level1\" >Item Name</th>        <th class=\"blank\" ></th>        <th class=\"blank\" ></th>        <th class=\"blank\" ></th>    </tr></thead><tbody>\n",
       "                <tr>\n",
       "                        <th id=\"T_6906c90c_c621_11ea_8cb4_784f4383536elevel0_row0\" class=\"row_heading level0 row0\" >92</th>\n",
       "                        <th id=\"T_6906c90c_c621_11ea_8cb4_784f4383536elevel1_row0\" class=\"row_heading level1 row0\" >Final Critic</th>\n",
       "                        <td id=\"T_6906c90c_c621_11ea_8cb4_784f4383536erow0_col0\" class=\"data row0 col0\" >13</td>\n",
       "                        <td id=\"T_6906c90c_c621_11ea_8cb4_784f4383536erow0_col1\" class=\"data row0 col1\" >$4.61</td>\n",
       "                        <td id=\"T_6906c90c_c621_11ea_8cb4_784f4383536erow0_col2\" class=\"data row0 col2\" >$59.99</td>\n",
       "            </tr>\n",
       "            <tr>\n",
       "                        <th id=\"T_6906c90c_c621_11ea_8cb4_784f4383536elevel0_row1\" class=\"row_heading level0 row1\" >178</th>\n",
       "                        <th id=\"T_6906c90c_c621_11ea_8cb4_784f4383536elevel1_row1\" class=\"row_heading level1 row1\" >Oathbreaker, Last Hope of the Breaking Storm</th>\n",
       "                        <td id=\"T_6906c90c_c621_11ea_8cb4_784f4383536erow1_col0\" class=\"data row1 col0\" >12</td>\n",
       "                        <td id=\"T_6906c90c_c621_11ea_8cb4_784f4383536erow1_col1\" class=\"data row1 col1\" >$4.23</td>\n",
       "                        <td id=\"T_6906c90c_c621_11ea_8cb4_784f4383536erow1_col2\" class=\"data row1 col2\" >$50.76</td>\n",
       "            </tr>\n",
       "            <tr>\n",
       "                        <th id=\"T_6906c90c_c621_11ea_8cb4_784f4383536elevel0_row2\" class=\"row_heading level0 row2\" >145</th>\n",
       "                        <th id=\"T_6906c90c_c621_11ea_8cb4_784f4383536elevel1_row2\" class=\"row_heading level1 row2\" >Fiery Glass Crusader</th>\n",
       "                        <td id=\"T_6906c90c_c621_11ea_8cb4_784f4383536erow2_col0\" class=\"data row2 col0\" >9</td>\n",
       "                        <td id=\"T_6906c90c_c621_11ea_8cb4_784f4383536erow2_col1\" class=\"data row2 col1\" >$4.58</td>\n",
       "                        <td id=\"T_6906c90c_c621_11ea_8cb4_784f4383536erow2_col2\" class=\"data row2 col2\" >$41.22</td>\n",
       "            </tr>\n",
       "            <tr>\n",
       "                        <th id=\"T_6906c90c_c621_11ea_8cb4_784f4383536elevel0_row3\" class=\"row_heading level0 row3\" >132</th>\n",
       "                        <th id=\"T_6906c90c_c621_11ea_8cb4_784f4383536elevel1_row3\" class=\"row_heading level1 row3\" >Persuasion</th>\n",
       "                        <td id=\"T_6906c90c_c621_11ea_8cb4_784f4383536erow3_col0\" class=\"data row3 col0\" >9</td>\n",
       "                        <td id=\"T_6906c90c_c621_11ea_8cb4_784f4383536erow3_col1\" class=\"data row3 col1\" >$3.22</td>\n",
       "                        <td id=\"T_6906c90c_c621_11ea_8cb4_784f4383536erow3_col2\" class=\"data row3 col2\" >$28.99</td>\n",
       "            </tr>\n",
       "            <tr>\n",
       "                        <th id=\"T_6906c90c_c621_11ea_8cb4_784f4383536elevel0_row4\" class=\"row_heading level0 row4\" >108</th>\n",
       "                        <th id=\"T_6906c90c_c621_11ea_8cb4_784f4383536elevel1_row4\" class=\"row_heading level1 row4\" >Extraction, Quickblade Of Trembling Hands</th>\n",
       "                        <td id=\"T_6906c90c_c621_11ea_8cb4_784f4383536erow4_col0\" class=\"data row4 col0\" >9</td>\n",
       "                        <td id=\"T_6906c90c_c621_11ea_8cb4_784f4383536erow4_col1\" class=\"data row4 col1\" >$3.53</td>\n",
       "                        <td id=\"T_6906c90c_c621_11ea_8cb4_784f4383536erow4_col2\" class=\"data row4 col2\" >$31.77</td>\n",
       "            </tr>\n",
       "    </tbody></table>"
      ],
      "text/plain": [
       "<pandas.io.formats.style.Styler at 0x7fba62a2f1d0>"
      ]
     },
     "execution_count": 21,
     "metadata": {},
     "output_type": "execute_result"
    }
   ],
   "source": [
    "# Make a new DF for the most popular items based on Item ID, Name, & Price\n",
    "most_popular_df = purchase_data_df[[\"Item ID\", \"Item Name\", \"Price\"]]\n",
    "\n",
    "# Group by Item ID and Item Name\n",
    "group_ID = most_popular_df.groupby([\"Item ID\", \"Item Name\"])\n",
    "\n",
    "# Find purchase count \n",
    "purchase_count = group_ID[\"Price\"].count()\n",
    "\n",
    "# Find total purchase value\n",
    "purchase_value = group_ID[\"Price\"].sum()\n",
    "\n",
    "# Find item price\n",
    "item_value = round(purchase_value / purchase_count, 2)\n",
    "\n",
    "# Display the Summary Table \n",
    "summary_df5 = pd.DataFrame({\"Purchase Count\": purchase_count,\n",
    "                             \"Item Price\": item_value,\n",
    "                             \"Total Purchase Value\": purchase_value\n",
    "                              })\n",
    "\n",
    "df5_formatted = summary_df5.sort_values([\"Purchase Count\"], ascending=False).head()\n",
    "\n",
    "df5_formatted.style.format({\"Item Price\":\"${:,.2f}\",\n",
    "                           \"Total Purchase Value\":\"${:,.2f}\"\n",
    "                           })"
   ]
  },
  {
   "cell_type": "code",
   "execution_count": 22,
   "metadata": {},
   "outputs": [
    {
     "data": {
      "text/html": [
       "<style  type=\"text/css\" >\n",
       "</style><table id=\"T_6a17ee84_c621_11ea_8cb4_784f4383536e\" ><thead>    <tr>        <th class=\"blank\" ></th>        <th class=\"blank level0\" ></th>        <th class=\"col_heading level0 col0\" >Purchase Count</th>        <th class=\"col_heading level0 col1\" >Item Price</th>        <th class=\"col_heading level0 col2\" >Total Purchase Value</th>    </tr>    <tr>        <th class=\"index_name level0\" >Item ID</th>        <th class=\"index_name level1\" >Item Name</th>        <th class=\"blank\" ></th>        <th class=\"blank\" ></th>        <th class=\"blank\" ></th>    </tr></thead><tbody>\n",
       "                <tr>\n",
       "                        <th id=\"T_6a17ee84_c621_11ea_8cb4_784f4383536elevel0_row0\" class=\"row_heading level0 row0\" >92</th>\n",
       "                        <th id=\"T_6a17ee84_c621_11ea_8cb4_784f4383536elevel1_row0\" class=\"row_heading level1 row0\" >Final Critic</th>\n",
       "                        <td id=\"T_6a17ee84_c621_11ea_8cb4_784f4383536erow0_col0\" class=\"data row0 col0\" >13</td>\n",
       "                        <td id=\"T_6a17ee84_c621_11ea_8cb4_784f4383536erow0_col1\" class=\"data row0 col1\" >$4.61</td>\n",
       "                        <td id=\"T_6a17ee84_c621_11ea_8cb4_784f4383536erow0_col2\" class=\"data row0 col2\" >$59.99</td>\n",
       "            </tr>\n",
       "            <tr>\n",
       "                        <th id=\"T_6a17ee84_c621_11ea_8cb4_784f4383536elevel0_row1\" class=\"row_heading level0 row1\" >178</th>\n",
       "                        <th id=\"T_6a17ee84_c621_11ea_8cb4_784f4383536elevel1_row1\" class=\"row_heading level1 row1\" >Oathbreaker, Last Hope of the Breaking Storm</th>\n",
       "                        <td id=\"T_6a17ee84_c621_11ea_8cb4_784f4383536erow1_col0\" class=\"data row1 col0\" >12</td>\n",
       "                        <td id=\"T_6a17ee84_c621_11ea_8cb4_784f4383536erow1_col1\" class=\"data row1 col1\" >$4.23</td>\n",
       "                        <td id=\"T_6a17ee84_c621_11ea_8cb4_784f4383536erow1_col2\" class=\"data row1 col2\" >$50.76</td>\n",
       "            </tr>\n",
       "            <tr>\n",
       "                        <th id=\"T_6a17ee84_c621_11ea_8cb4_784f4383536elevel0_row2\" class=\"row_heading level0 row2\" >82</th>\n",
       "                        <th id=\"T_6a17ee84_c621_11ea_8cb4_784f4383536elevel1_row2\" class=\"row_heading level1 row2\" >Nirvana</th>\n",
       "                        <td id=\"T_6a17ee84_c621_11ea_8cb4_784f4383536erow2_col0\" class=\"data row2 col0\" >9</td>\n",
       "                        <td id=\"T_6a17ee84_c621_11ea_8cb4_784f4383536erow2_col1\" class=\"data row2 col1\" >$4.90</td>\n",
       "                        <td id=\"T_6a17ee84_c621_11ea_8cb4_784f4383536erow2_col2\" class=\"data row2 col2\" >$44.10</td>\n",
       "            </tr>\n",
       "            <tr>\n",
       "                        <th id=\"T_6a17ee84_c621_11ea_8cb4_784f4383536elevel0_row3\" class=\"row_heading level0 row3\" >145</th>\n",
       "                        <th id=\"T_6a17ee84_c621_11ea_8cb4_784f4383536elevel1_row3\" class=\"row_heading level1 row3\" >Fiery Glass Crusader</th>\n",
       "                        <td id=\"T_6a17ee84_c621_11ea_8cb4_784f4383536erow3_col0\" class=\"data row3 col0\" >9</td>\n",
       "                        <td id=\"T_6a17ee84_c621_11ea_8cb4_784f4383536erow3_col1\" class=\"data row3 col1\" >$4.58</td>\n",
       "                        <td id=\"T_6a17ee84_c621_11ea_8cb4_784f4383536erow3_col2\" class=\"data row3 col2\" >$41.22</td>\n",
       "            </tr>\n",
       "            <tr>\n",
       "                        <th id=\"T_6a17ee84_c621_11ea_8cb4_784f4383536elevel0_row4\" class=\"row_heading level0 row4\" >103</th>\n",
       "                        <th id=\"T_6a17ee84_c621_11ea_8cb4_784f4383536elevel1_row4\" class=\"row_heading level1 row4\" >Singed Scalpel</th>\n",
       "                        <td id=\"T_6a17ee84_c621_11ea_8cb4_784f4383536erow4_col0\" class=\"data row4 col0\" >8</td>\n",
       "                        <td id=\"T_6a17ee84_c621_11ea_8cb4_784f4383536erow4_col1\" class=\"data row4 col1\" >$4.35</td>\n",
       "                        <td id=\"T_6a17ee84_c621_11ea_8cb4_784f4383536erow4_col2\" class=\"data row4 col2\" >$34.80</td>\n",
       "            </tr>\n",
       "    </tbody></table>"
      ],
      "text/plain": [
       "<pandas.io.formats.style.Styler at 0x7fba62a74d50>"
      ]
     },
     "execution_count": 22,
     "metadata": {},
     "output_type": "execute_result"
    }
   ],
   "source": [
    "# Most Profitable Items\n",
    "df5_formatted = summary_df5.sort_values([\"Total Purchase Value\"], ascending=False).head()\n",
    "\n",
    "df5_formatted.style.format({\"Item Price\":\"${:,.2f}\",\n",
    "                           \"Total Purchase Value\":\"${:,.2f}\"\n",
    "                           })"
   ]
  },
  {
   "cell_type": "code",
   "execution_count": null,
   "metadata": {},
   "outputs": [],
   "source": []
  },
  {
   "cell_type": "code",
   "execution_count": null,
   "metadata": {},
   "outputs": [],
   "source": []
  },
  {
   "cell_type": "code",
   "execution_count": null,
   "metadata": {},
   "outputs": [],
   "source": []
  },
  {
   "cell_type": "code",
   "execution_count": null,
   "metadata": {},
   "outputs": [],
   "source": []
  },
  {
   "cell_type": "code",
   "execution_count": null,
   "metadata": {},
   "outputs": [],
   "source": []
  },
  {
   "cell_type": "code",
   "execution_count": null,
   "metadata": {},
   "outputs": [],
   "source": []
  }
 ],
 "metadata": {
  "kernelspec": {
   "display_name": "PythonData",
   "language": "python",
   "name": "pythondata"
  },
  "language_info": {
   "codemirror_mode": {
    "name": "ipython",
    "version": 3
   },
   "file_extension": ".py",
   "mimetype": "text/x-python",
   "name": "python",
   "nbconvert_exporter": "python",
   "pygments_lexer": "ipython3",
   "version": "3.7.6"
  }
 },
 "nbformat": 4,
 "nbformat_minor": 4
}
